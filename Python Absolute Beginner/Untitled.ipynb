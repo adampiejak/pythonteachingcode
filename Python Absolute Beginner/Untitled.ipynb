{
 "cells": [
  {
   "cell_type": "code",
   "execution_count": null,
   "id": "25c521fd",
   "metadata": {},
   "outputs": [],
   "source": [
    "# Create name check code\n",
    "input_test = input(\"Names of people met in past 24 hours?: \").upper()\n",
    "# [ ] get input for input_test variable\n",
    "print(input_test)\n",
    "# [ ] print \"True\" message if \"John\" is in the input or False message if not\n",
    "print('JOHN' in input_test)\n",
    "\n",
    "# [ ] print True message if your name is in the input or False if not\n",
    "print('ADAM' in input_test)\n",
    "\n",
    "# [ ] Challenge: Check if another person's name is in the input - print message\n",
    "print('BRIAN' in input_test)\n",
    "print(\"Welcome Brian!\")\n",
    "\n",
    "# [ ] Challenge: Check if a fourth person's name is in the input - print message\n",
    "print('EMILY' in input_test) \n",
    "print(\"Welcome Emily!\")"
   ]
  }
 ],
 "metadata": {
  "kernelspec": {
   "display_name": "Python 3 (ipykernel)",
   "language": "python",
   "name": "python3"
  },
  "language_info": {
   "codemirror_mode": {
    "name": "ipython",
    "version": 3
   },
   "file_extension": ".py",
   "mimetype": "text/x-python",
   "name": "python",
   "nbconvert_exporter": "python",
   "pygments_lexer": "ipython3",
   "version": "3.11.4"
  }
 },
 "nbformat": 4,
 "nbformat_minor": 5
}
